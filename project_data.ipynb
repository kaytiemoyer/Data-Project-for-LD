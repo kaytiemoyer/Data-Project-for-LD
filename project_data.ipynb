{
 "cells": [
  {
   "cell_type": "code",
   "execution_count": 1,
   "id": "706e3b83",
   "metadata": {},
   "outputs": [],
   "source": [
    "#libaries\n",
    "import numpy as np \n",
    "import pandas as pd \n",
    "import matplotlib.pyplot as plt \n",
    "import matplotlib.image as mpimg \n",
    "%matplotlib inline\n",
    "import seaborn as sns\n",
    "import datetime as date_time"
   ]
  },
  {
   "cell_type": "code",
   "execution_count": 2,
   "id": "5a1cf525",
   "metadata": {},
   "outputs": [],
   "source": [
    "#dataset\n",
    "df = pd.read_csv('C:/Users/Kaytie/Desktop/project_data.csv')"
   ]
  },
  {
   "cell_type": "code",
   "execution_count": 3,
   "id": "9f44ab45",
   "metadata": {},
   "outputs": [
    {
     "data": {
      "text/html": [
       "<div>\n",
       "<style scoped>\n",
       "    .dataframe tbody tr th:only-of-type {\n",
       "        vertical-align: middle;\n",
       "    }\n",
       "\n",
       "    .dataframe tbody tr th {\n",
       "        vertical-align: top;\n",
       "    }\n",
       "\n",
       "    .dataframe thead th {\n",
       "        text-align: right;\n",
       "    }\n",
       "</style>\n",
       "<table border=\"1\" class=\"dataframe\">\n",
       "  <thead>\n",
       "    <tr style=\"text-align: right;\">\n",
       "      <th></th>\n",
       "      <th>Slot.ID</th>\n",
       "      <th>Placement</th>\n",
       "      <th>Ad.Slot.Page.Layout</th>\n",
       "      <th>Creative.ID</th>\n",
       "      <th>Content.Type</th>\n",
       "      <th>Content.Has.Play.Button</th>\n",
       "      <th>Date</th>\n",
       "      <th>Device</th>\n",
       "      <th>Size</th>\n",
       "      <th>Publisher.Split</th>\n",
       "      <th>Impressions</th>\n",
       "      <th>Referrals</th>\n",
       "      <th>Conversions</th>\n",
       "    </tr>\n",
       "  </thead>\n",
       "  <tbody>\n",
       "    <tr>\n",
       "      <th>0</th>\n",
       "      <td>1</td>\n",
       "      <td>NaN</td>\n",
       "      <td>NaN</td>\n",
       "      <td>1</td>\n",
       "      <td>advertorial</td>\n",
       "      <td>yes</td>\n",
       "      <td>12/01/2020</td>\n",
       "      <td>Other</td>\n",
       "      <td>Unknown</td>\n",
       "      <td>0.00</td>\n",
       "      <td>0</td>\n",
       "      <td>0</td>\n",
       "      <td>0</td>\n",
       "    </tr>\n",
       "    <tr>\n",
       "      <th>1</th>\n",
       "      <td>2</td>\n",
       "      <td>external_in_content</td>\n",
       "      <td>full_article</td>\n",
       "      <td>1</td>\n",
       "      <td>advertorial</td>\n",
       "      <td>yes</td>\n",
       "      <td>12/01/2020</td>\n",
       "      <td>Mobile</td>\n",
       "      <td>Responsive</td>\n",
       "      <td>0.02</td>\n",
       "      <td>10</td>\n",
       "      <td>0</td>\n",
       "      <td>0</td>\n",
       "    </tr>\n",
       "    <tr>\n",
       "      <th>2</th>\n",
       "      <td>3</td>\n",
       "      <td>external_above_content</td>\n",
       "      <td>full_article</td>\n",
       "      <td>1</td>\n",
       "      <td>advertorial</td>\n",
       "      <td>yes</td>\n",
       "      <td>12/01/2020</td>\n",
       "      <td>Mobile</td>\n",
       "      <td>Responsive</td>\n",
       "      <td>0.32</td>\n",
       "      <td>94</td>\n",
       "      <td>0</td>\n",
       "      <td>0</td>\n",
       "    </tr>\n",
       "    <tr>\n",
       "      <th>3</th>\n",
       "      <td>4</td>\n",
       "      <td>external_below_content</td>\n",
       "      <td>full_article</td>\n",
       "      <td>1</td>\n",
       "      <td>advertorial</td>\n",
       "      <td>yes</td>\n",
       "      <td>12/01/2020</td>\n",
       "      <td>Mobile</td>\n",
       "      <td>Responsive</td>\n",
       "      <td>0.00</td>\n",
       "      <td>54</td>\n",
       "      <td>0</td>\n",
       "      <td>0</td>\n",
       "    </tr>\n",
       "    <tr>\n",
       "      <th>4</th>\n",
       "      <td>5</td>\n",
       "      <td>external_below_content</td>\n",
       "      <td>full_article</td>\n",
       "      <td>1</td>\n",
       "      <td>advertorial</td>\n",
       "      <td>yes</td>\n",
       "      <td>12/01/2020</td>\n",
       "      <td>Mobile</td>\n",
       "      <td>Responsive</td>\n",
       "      <td>0.03</td>\n",
       "      <td>21</td>\n",
       "      <td>1</td>\n",
       "      <td>0</td>\n",
       "    </tr>\n",
       "  </tbody>\n",
       "</table>\n",
       "</div>"
      ],
      "text/plain": [
       "   Slot.ID               Placement Ad.Slot.Page.Layout  Creative.ID  \\\n",
       "0        1                     NaN                 NaN            1   \n",
       "1        2     external_in_content        full_article            1   \n",
       "2        3  external_above_content        full_article            1   \n",
       "3        4  external_below_content        full_article            1   \n",
       "4        5  external_below_content        full_article            1   \n",
       "\n",
       "  Content.Type Content.Has.Play.Button        Date  Device        Size  \\\n",
       "0  advertorial                     yes  12/01/2020   Other     Unknown   \n",
       "1  advertorial                     yes  12/01/2020  Mobile  Responsive   \n",
       "2  advertorial                     yes  12/01/2020  Mobile  Responsive   \n",
       "3  advertorial                     yes  12/01/2020  Mobile  Responsive   \n",
       "4  advertorial                     yes  12/01/2020  Mobile  Responsive   \n",
       "\n",
       "   Publisher.Split  Impressions  Referrals  Conversions  \n",
       "0             0.00            0          0            0  \n",
       "1             0.02           10          0            0  \n",
       "2             0.32           94          0            0  \n",
       "3             0.00           54          0            0  \n",
       "4             0.03           21          1            0  "
      ]
     },
     "execution_count": 3,
     "metadata": {},
     "output_type": "execute_result"
    }
   ],
   "source": [
    "df.head(5)"
   ]
  },
  {
   "cell_type": "code",
   "execution_count": 4,
   "id": "b559a3dd",
   "metadata": {},
   "outputs": [
    {
     "name": "stdout",
     "output_type": "stream",
     "text": [
      "<class 'pandas.core.frame.DataFrame'>\n",
      "RangeIndex: 5484486 entries, 0 to 5484485\n",
      "Data columns (total 13 columns):\n",
      " #   Column                   Dtype  \n",
      "---  ------                   -----  \n",
      " 0   Slot.ID                  int64  \n",
      " 1   Placement                object \n",
      " 2   Ad.Slot.Page.Layout      object \n",
      " 3   Creative.ID              int64  \n",
      " 4   Content.Type             object \n",
      " 5   Content.Has.Play.Button  object \n",
      " 6   Date                     object \n",
      " 7   Device                   object \n",
      " 8   Size                     object \n",
      " 9   Cost                     float64\n",
      " 10  Impressions              int64  \n",
      " 11  Referrals                int64  \n",
      " 12  Profit                   int64  \n",
      "dtypes: float64(1), int64(5), object(7)\n",
      "memory usage: 544.0+ MB\n"
     ]
    }
   ],
   "source": [
    "#changing column names to easier versions\n",
    "new_name={'Publisher.Split':'Cost','Conversions':'Profit'}\n",
    "df.rename(columns=new_name, inplace=True)\n",
    "df.info()"
   ]
  },
  {
   "cell_type": "code",
   "execution_count": 5,
   "id": "15251e08",
   "metadata": {},
   "outputs": [],
   "source": [
    "#copy of the dataset\n",
    "df2=df.copy()"
   ]
  },
  {
   "cell_type": "code",
   "execution_count": 6,
   "id": "ad8cded1",
   "metadata": {},
   "outputs": [
    {
     "data": {
      "text/plain": [
       "Index(['Slot.ID', 'Placement', 'Ad.Slot.Page.Layout', 'Creative.ID',\n",
       "       'Content.Type', 'Content.Has.Play.Button', 'Date', 'Device', 'Size',\n",
       "       'Cost', 'Impressions', 'Referrals', 'Profit'],\n",
       "      dtype='object')"
      ]
     },
     "execution_count": 6,
     "metadata": {},
     "output_type": "execute_result"
    }
   ],
   "source": [
    "df.columns"
   ]
  },
  {
   "cell_type": "code",
   "execution_count": 7,
   "id": "88526e43",
   "metadata": {},
   "outputs": [],
   "source": [
    "#drop all NA values\n",
    "df2.dropna(inplace=True)"
   ]
  },
  {
   "cell_type": "code",
   "execution_count": 8,
   "id": "e39bb8b9",
   "metadata": {},
   "outputs": [
    {
     "data": {
      "text/plain": [
       "Mobile     2221583\n",
       "Desktop    2078603\n",
       "Tablet     1171566\n",
       "Other          404\n",
       "Name: Device, dtype: int64"
      ]
     },
     "execution_count": 8,
     "metadata": {},
     "output_type": "execute_result"
    }
   ],
   "source": [
    "df2['Device'].value_counts()"
   ]
  },
  {
   "cell_type": "code",
   "execution_count": 9,
   "id": "7db49b8d",
   "metadata": {},
   "outputs": [],
   "source": [
    "#Changing dates to standardized format for pandas dataframe\n",
    "df2['Date']=pd.to_datetime(df2['Date'], dayfirst=False)"
   ]
  },
  {
   "cell_type": "code",
   "execution_count": 10,
   "id": "3af887da",
   "metadata": {},
   "outputs": [
    {
     "data": {
      "text/html": [
       "<div>\n",
       "<style scoped>\n",
       "    .dataframe tbody tr th:only-of-type {\n",
       "        vertical-align: middle;\n",
       "    }\n",
       "\n",
       "    .dataframe tbody tr th {\n",
       "        vertical-align: top;\n",
       "    }\n",
       "\n",
       "    .dataframe thead th {\n",
       "        text-align: right;\n",
       "    }\n",
       "</style>\n",
       "<table border=\"1\" class=\"dataframe\">\n",
       "  <thead>\n",
       "    <tr style=\"text-align: right;\">\n",
       "      <th></th>\n",
       "      <th>Slot.ID</th>\n",
       "      <th>Placement</th>\n",
       "      <th>Ad.Slot.Page.Layout</th>\n",
       "      <th>Creative.ID</th>\n",
       "      <th>Content.Type</th>\n",
       "      <th>Content.Has.Play.Button</th>\n",
       "      <th>Date</th>\n",
       "      <th>Device</th>\n",
       "      <th>Size</th>\n",
       "      <th>Cost</th>\n",
       "      <th>Impressions</th>\n",
       "      <th>Referrals</th>\n",
       "      <th>Profit</th>\n",
       "    </tr>\n",
       "  </thead>\n",
       "  <tbody>\n",
       "    <tr>\n",
       "      <th>5484482</th>\n",
       "      <td>1239</td>\n",
       "      <td>external_feed</td>\n",
       "      <td>full_article</td>\n",
       "      <td>84</td>\n",
       "      <td>advertorial</td>\n",
       "      <td>yes</td>\n",
       "      <td>2021-02-28</td>\n",
       "      <td>Mobile</td>\n",
       "      <td>IAB 300x250 (Medium Rectangle)</td>\n",
       "      <td>0.0</td>\n",
       "      <td>0</td>\n",
       "      <td>0</td>\n",
       "      <td>0</td>\n",
       "    </tr>\n",
       "  </tbody>\n",
       "</table>\n",
       "</div>"
      ],
      "text/plain": [
       "         Slot.ID      Placement Ad.Slot.Page.Layout  Creative.ID Content.Type  \\\n",
       "5484482     1239  external_feed        full_article           84  advertorial   \n",
       "\n",
       "        Content.Has.Play.Button       Date  Device  \\\n",
       "5484482                     yes 2021-02-28  Mobile   \n",
       "\n",
       "                                   Size  Cost  Impressions  Referrals  Profit  \n",
       "5484482  IAB 300x250 (Medium Rectangle)   0.0            0          0       0  "
      ]
     },
     "execution_count": 10,
     "metadata": {},
     "output_type": "execute_result"
    }
   ],
   "source": [
    "df2.tail(1)"
   ]
  },
  {
   "cell_type": "code",
   "execution_count": 11,
   "id": "a01f44b2",
   "metadata": {},
   "outputs": [],
   "source": [
    "#creating the strings for the masks\n",
    "start_date35='2020-12-01'\n",
    "end_date35='2021-01-07'\n",
    "start_date40='2021-01-08'\n",
    "end_date40='2021-02-28'"
   ]
  },
  {
   "cell_type": "code",
   "execution_count": 12,
   "id": "fb81b940",
   "metadata": {},
   "outputs": [],
   "source": [
    "#creating the masks for the filters\n",
    "mask35=(df2['Date'] >= start_date35) & (df2['Date'] <= end_date35)\n",
    "mask40=(df2['Date'] >= start_date40) & (df2['Date'] <= end_date40)"
   ]
  },
  {
   "cell_type": "code",
   "execution_count": 13,
   "id": "a5df991e",
   "metadata": {},
   "outputs": [],
   "source": [
    "#filtering revenue by date\n",
    "rev35=df2.loc[mask35]\n",
    "rev40=df2.loc[mask40]"
   ]
  },
  {
   "cell_type": "code",
   "execution_count": 14,
   "id": "f043b52c",
   "metadata": {},
   "outputs": [
    {
     "name": "stderr",
     "output_type": "stream",
     "text": [
      "<ipython-input-14-a11f496a2354>:3: SettingWithCopyWarning: \n",
      "A value is trying to be set on a copy of a slice from a DataFrame.\n",
      "Try using .loc[row_indexer,col_indexer] = value instead\n",
      "\n",
      "See the caveats in the documentation: https://pandas.pydata.org/pandas-docs/stable/user_guide/indexing.html#returning-a-view-versus-a-copy\n",
      "  rev35['Profit']=rev35['Profit']*35\n",
      "<ipython-input-14-a11f496a2354>:4: SettingWithCopyWarning: \n",
      "A value is trying to be set on a copy of a slice from a DataFrame.\n",
      "Try using .loc[row_indexer,col_indexer] = value instead\n",
      "\n",
      "See the caveats in the documentation: https://pandas.pydata.org/pandas-docs/stable/user_guide/indexing.html#returning-a-view-versus-a-copy\n",
      "  rev40['Profit']=rev40['Profit']*40\n"
     ]
    }
   ],
   "source": [
    "#calculating true profit by filtering the dates before/including 1/7/21 and multiplying the number of conversions against 35, \n",
    "#and doing the same to dates including/after 1/8/21 against 40\n",
    "rev35['Profit']=rev35['Profit']*35\n",
    "rev40['Profit']=rev40['Profit']*40"
   ]
  },
  {
   "cell_type": "code",
   "execution_count": 15,
   "id": "84059f61",
   "metadata": {},
   "outputs": [],
   "source": [
    "#true profit dataframe\n",
    "rr=rev35.append(rev40)"
   ]
  },
  {
   "cell_type": "code",
   "execution_count": 16,
   "id": "79a582f8",
   "metadata": {},
   "outputs": [
    {
     "data": {
      "text/html": [
       "<div>\n",
       "<style scoped>\n",
       "    .dataframe tbody tr th:only-of-type {\n",
       "        vertical-align: middle;\n",
       "    }\n",
       "\n",
       "    .dataframe tbody tr th {\n",
       "        vertical-align: top;\n",
       "    }\n",
       "\n",
       "    .dataframe thead th {\n",
       "        text-align: right;\n",
       "    }\n",
       "</style>\n",
       "<table border=\"1\" class=\"dataframe\">\n",
       "  <thead>\n",
       "    <tr style=\"text-align: right;\">\n",
       "      <th></th>\n",
       "      <th>Slot.ID</th>\n",
       "      <th>Placement</th>\n",
       "      <th>Ad.Slot.Page.Layout</th>\n",
       "      <th>Creative.ID</th>\n",
       "      <th>Content.Type</th>\n",
       "      <th>Content.Has.Play.Button</th>\n",
       "      <th>Date</th>\n",
       "      <th>Device</th>\n",
       "      <th>Size</th>\n",
       "      <th>Cost</th>\n",
       "      <th>Impressions</th>\n",
       "      <th>Referrals</th>\n",
       "      <th>Profit</th>\n",
       "    </tr>\n",
       "  </thead>\n",
       "  <tbody>\n",
       "    <tr>\n",
       "      <th>5484478</th>\n",
       "      <td>1208</td>\n",
       "      <td>external_feed</td>\n",
       "      <td>full_article</td>\n",
       "      <td>84</td>\n",
       "      <td>advertorial</td>\n",
       "      <td>yes</td>\n",
       "      <td>2021-02-28</td>\n",
       "      <td>Mobile</td>\n",
       "      <td>IAB 300x250 (Medium Rectangle)</td>\n",
       "      <td>0.0</td>\n",
       "      <td>0</td>\n",
       "      <td>0</td>\n",
       "      <td>0</td>\n",
       "    </tr>\n",
       "    <tr>\n",
       "      <th>5484479</th>\n",
       "      <td>1584</td>\n",
       "      <td>external_feed</td>\n",
       "      <td>full_article</td>\n",
       "      <td>84</td>\n",
       "      <td>advertorial</td>\n",
       "      <td>yes</td>\n",
       "      <td>2021-02-28</td>\n",
       "      <td>Mobile</td>\n",
       "      <td>IAB 300x250 (Medium Rectangle)</td>\n",
       "      <td>0.0</td>\n",
       "      <td>0</td>\n",
       "      <td>0</td>\n",
       "      <td>0</td>\n",
       "    </tr>\n",
       "    <tr>\n",
       "      <th>5484480</th>\n",
       "      <td>1586</td>\n",
       "      <td>external_feed</td>\n",
       "      <td>full_article</td>\n",
       "      <td>84</td>\n",
       "      <td>advertorial</td>\n",
       "      <td>yes</td>\n",
       "      <td>2021-02-28</td>\n",
       "      <td>Mobile</td>\n",
       "      <td>IAB 300x50 (Mobile Banner)</td>\n",
       "      <td>0.0</td>\n",
       "      <td>0</td>\n",
       "      <td>0</td>\n",
       "      <td>0</td>\n",
       "    </tr>\n",
       "    <tr>\n",
       "      <th>5484481</th>\n",
       "      <td>1590</td>\n",
       "      <td>external_feed</td>\n",
       "      <td>full_article</td>\n",
       "      <td>84</td>\n",
       "      <td>advertorial</td>\n",
       "      <td>yes</td>\n",
       "      <td>2021-02-28</td>\n",
       "      <td>Mobile</td>\n",
       "      <td>IAB 300x250 (Medium Rectangle)</td>\n",
       "      <td>0.0</td>\n",
       "      <td>0</td>\n",
       "      <td>0</td>\n",
       "      <td>0</td>\n",
       "    </tr>\n",
       "    <tr>\n",
       "      <th>5484482</th>\n",
       "      <td>1239</td>\n",
       "      <td>external_feed</td>\n",
       "      <td>full_article</td>\n",
       "      <td>84</td>\n",
       "      <td>advertorial</td>\n",
       "      <td>yes</td>\n",
       "      <td>2021-02-28</td>\n",
       "      <td>Mobile</td>\n",
       "      <td>IAB 300x250 (Medium Rectangle)</td>\n",
       "      <td>0.0</td>\n",
       "      <td>0</td>\n",
       "      <td>0</td>\n",
       "      <td>0</td>\n",
       "    </tr>\n",
       "  </tbody>\n",
       "</table>\n",
       "</div>"
      ],
      "text/plain": [
       "         Slot.ID      Placement Ad.Slot.Page.Layout  Creative.ID Content.Type  \\\n",
       "5484478     1208  external_feed        full_article           84  advertorial   \n",
       "5484479     1584  external_feed        full_article           84  advertorial   \n",
       "5484480     1586  external_feed        full_article           84  advertorial   \n",
       "5484481     1590  external_feed        full_article           84  advertorial   \n",
       "5484482     1239  external_feed        full_article           84  advertorial   \n",
       "\n",
       "        Content.Has.Play.Button       Date  Device  \\\n",
       "5484478                     yes 2021-02-28  Mobile   \n",
       "5484479                     yes 2021-02-28  Mobile   \n",
       "5484480                     yes 2021-02-28  Mobile   \n",
       "5484481                     yes 2021-02-28  Mobile   \n",
       "5484482                     yes 2021-02-28  Mobile   \n",
       "\n",
       "                                   Size  Cost  Impressions  Referrals  Profit  \n",
       "5484478  IAB 300x250 (Medium Rectangle)   0.0            0          0       0  \n",
       "5484479  IAB 300x250 (Medium Rectangle)   0.0            0          0       0  \n",
       "5484480      IAB 300x50 (Mobile Banner)   0.0            0          0       0  \n",
       "5484481  IAB 300x250 (Medium Rectangle)   0.0            0          0       0  \n",
       "5484482  IAB 300x250 (Medium Rectangle)   0.0            0          0       0  "
      ]
     },
     "execution_count": 16,
     "metadata": {},
     "output_type": "execute_result"
    }
   ],
   "source": [
    "rr.tail(5)"
   ]
  },
  {
   "cell_type": "code",
   "execution_count": 20,
   "id": "c9078cf4",
   "metadata": {},
   "outputs": [],
   "source": [
    "rr['Revenue']=rr['Profit']-rr['Cost']"
   ]
  },
  {
   "cell_type": "code",
   "execution_count": 19,
   "id": "98d191df",
   "metadata": {},
   "outputs": [
    {
     "data": {
      "image/png": "[encoded data removed]",
      "text/plain": [
       "<Figure size 576x576 with 1 Axes>"
      ]
     },
     "metadata": {
      "needs_background": "light"
     },
     "output_type": "display_data"
    }
   ],
   "source": [
    "#Visualization of Revenue (Cost vs Profit)\n",
    "#Costs have been consistently lower than profits on average. \n",
    "ax=rr.plot(x='Date', y=['Profit','Cost'],\n",
    "           title='Profit versus Cost for 12/2020-2/2021',\n",
    "           ylabel='USD in hundreds of thousands',\n",
    "           figsize=(8,8))"
   ]
  },
  {
   "cell_type": "code",
   "execution_count": 21,
   "id": "8ebd5d8c",
   "metadata": {},
   "outputs": [
    {
     "data": {
      "image/png": "[encoded data removed]",
      "text/plain": [
       "<Figure size 576x576 with 1 Axes>"
      ]
     },
     "metadata": {
      "needs_background": "light"
     },
     "output_type": "display_data"
    }
   ],
   "source": [
    "#Visualization of Revenue (Profit-Cost)\n",
    "#Revenue fluctuates but on average stays higher than zero\n",
    "ax=rr.plot(x='Date', y=['Revenue'],\n",
    "           title='Revenue for 12/2020-2/2021',\n",
    "           ylabel='USD in hundreds of thousands',\n",
    "           figsize=(8,8))"
   ]
  },
  {
   "cell_type": "code",
   "execution_count": 23,
   "id": "4abf59cb",
   "metadata": {},
   "outputs": [],
   "source": [
    "device_profit=rr.groupby('Device')['Profit'].sum()"
   ]
  },
  {
   "cell_type": "code",
   "execution_count": 24,
   "id": "5281b150",
   "metadata": {},
   "outputs": [
    {
     "data": {
      "text/plain": [
       "Device\n",
       "Desktop    162570\n",
       "Mobile     461760\n",
       "Other           0\n",
       "Tablet      23165\n",
       "Name: Profit, dtype: int64"
      ]
     },
     "execution_count": 24,
     "metadata": {},
     "output_type": "execute_result"
    }
   ],
   "source": [
    "device_profit"
   ]
  },
  {
   "cell_type": "code",
   "execution_count": 25,
   "id": "a5d7b96c",
   "metadata": {},
   "outputs": [
    {
     "data": {
      "text/html": [
       "<div>\n",
       "<style scoped>\n",
       "    .dataframe tbody tr th:only-of-type {\n",
       "        vertical-align: middle;\n",
       "    }\n",
       "\n",
       "    .dataframe tbody tr th {\n",
       "        vertical-align: top;\n",
       "    }\n",
       "\n",
       "    .dataframe thead th {\n",
       "        text-align: right;\n",
       "    }\n",
       "</style>\n",
       "<table border=\"1\" class=\"dataframe\">\n",
       "  <thead>\n",
       "    <tr style=\"text-align: right;\">\n",
       "      <th>Device</th>\n",
       "      <th>Desktop</th>\n",
       "      <th>Mobile</th>\n",
       "      <th>Other</th>\n",
       "      <th>Tablet</th>\n",
       "    </tr>\n",
       "    <tr>\n",
       "      <th>Profit</th>\n",
       "      <th></th>\n",
       "      <th></th>\n",
       "      <th></th>\n",
       "      <th></th>\n",
       "    </tr>\n",
       "  </thead>\n",
       "  <tbody>\n",
       "    <tr>\n",
       "      <th>35</th>\n",
       "      <td>1113</td>\n",
       "      <td>2139</td>\n",
       "      <td>0</td>\n",
       "      <td>135</td>\n",
       "    </tr>\n",
       "    <tr>\n",
       "      <th>40</th>\n",
       "      <td>2189</td>\n",
       "      <td>4710</td>\n",
       "      <td>0</td>\n",
       "      <td>397</td>\n",
       "    </tr>\n",
       "    <tr>\n",
       "      <th>70</th>\n",
       "      <td>93</td>\n",
       "      <td>279</td>\n",
       "      <td>0</td>\n",
       "      <td>4</td>\n",
       "    </tr>\n",
       "    <tr>\n",
       "      <th>80</th>\n",
       "      <td>176</td>\n",
       "      <td>719</td>\n",
       "      <td>0</td>\n",
       "      <td>15</td>\n",
       "    </tr>\n",
       "    <tr>\n",
       "      <th>105</th>\n",
       "      <td>15</td>\n",
       "      <td>73</td>\n",
       "      <td>0</td>\n",
       "      <td>0</td>\n",
       "    </tr>\n",
       "    <tr>\n",
       "      <th>120</th>\n",
       "      <td>50</td>\n",
       "      <td>234</td>\n",
       "      <td>0</td>\n",
       "      <td>4</td>\n",
       "    </tr>\n",
       "    <tr>\n",
       "      <th>140</th>\n",
       "      <td>6</td>\n",
       "      <td>46</td>\n",
       "      <td>0</td>\n",
       "      <td>0</td>\n",
       "    </tr>\n",
       "    <tr>\n",
       "      <th>160</th>\n",
       "      <td>8</td>\n",
       "      <td>112</td>\n",
       "      <td>0</td>\n",
       "      <td>2</td>\n",
       "    </tr>\n",
       "    <tr>\n",
       "      <th>175</th>\n",
       "      <td>2</td>\n",
       "      <td>22</td>\n",
       "      <td>0</td>\n",
       "      <td>0</td>\n",
       "    </tr>\n",
       "    <tr>\n",
       "      <th>200</th>\n",
       "      <td>5</td>\n",
       "      <td>61</td>\n",
       "      <td>0</td>\n",
       "      <td>0</td>\n",
       "    </tr>\n",
       "    <tr>\n",
       "      <th>210</th>\n",
       "      <td>1</td>\n",
       "      <td>10</td>\n",
       "      <td>0</td>\n",
       "      <td>0</td>\n",
       "    </tr>\n",
       "    <tr>\n",
       "      <th>240</th>\n",
       "      <td>4</td>\n",
       "      <td>33</td>\n",
       "      <td>0</td>\n",
       "      <td>0</td>\n",
       "    </tr>\n",
       "    <tr>\n",
       "      <th>245</th>\n",
       "      <td>1</td>\n",
       "      <td>7</td>\n",
       "      <td>0</td>\n",
       "      <td>0</td>\n",
       "    </tr>\n",
       "    <tr>\n",
       "      <th>280</th>\n",
       "      <td>3</td>\n",
       "      <td>22</td>\n",
       "      <td>0</td>\n",
       "      <td>1</td>\n",
       "    </tr>\n",
       "    <tr>\n",
       "      <th>315</th>\n",
       "      <td>0</td>\n",
       "      <td>1</td>\n",
       "      <td>0</td>\n",
       "      <td>0</td>\n",
       "    </tr>\n",
       "    <tr>\n",
       "      <th>320</th>\n",
       "      <td>3</td>\n",
       "      <td>18</td>\n",
       "      <td>0</td>\n",
       "      <td>0</td>\n",
       "    </tr>\n",
       "    <tr>\n",
       "      <th>350</th>\n",
       "      <td>1</td>\n",
       "      <td>0</td>\n",
       "      <td>0</td>\n",
       "      <td>0</td>\n",
       "    </tr>\n",
       "    <tr>\n",
       "      <th>360</th>\n",
       "      <td>0</td>\n",
       "      <td>11</td>\n",
       "      <td>0</td>\n",
       "      <td>0</td>\n",
       "    </tr>\n",
       "    <tr>\n",
       "      <th>400</th>\n",
       "      <td>1</td>\n",
       "      <td>14</td>\n",
       "      <td>0</td>\n",
       "      <td>0</td>\n",
       "    </tr>\n",
       "    <tr>\n",
       "      <th>440</th>\n",
       "      <td>0</td>\n",
       "      <td>2</td>\n",
       "      <td>0</td>\n",
       "      <td>0</td>\n",
       "    </tr>\n",
       "    <tr>\n",
       "      <th>455</th>\n",
       "      <td>1</td>\n",
       "      <td>0</td>\n",
       "      <td>0</td>\n",
       "      <td>0</td>\n",
       "    </tr>\n",
       "    <tr>\n",
       "      <th>480</th>\n",
       "      <td>0</td>\n",
       "      <td>4</td>\n",
       "      <td>0</td>\n",
       "      <td>0</td>\n",
       "    </tr>\n",
       "    <tr>\n",
       "      <th>600</th>\n",
       "      <td>0</td>\n",
       "      <td>5</td>\n",
       "      <td>0</td>\n",
       "      <td>0</td>\n",
       "    </tr>\n",
       "    <tr>\n",
       "      <th>680</th>\n",
       "      <td>0</td>\n",
       "      <td>3</td>\n",
       "      <td>0</td>\n",
       "      <td>0</td>\n",
       "    </tr>\n",
       "    <tr>\n",
       "      <th>720</th>\n",
       "      <td>0</td>\n",
       "      <td>1</td>\n",
       "      <td>0</td>\n",
       "      <td>0</td>\n",
       "    </tr>\n",
       "    <tr>\n",
       "      <th>760</th>\n",
       "      <td>0</td>\n",
       "      <td>2</td>\n",
       "      <td>0</td>\n",
       "      <td>0</td>\n",
       "    </tr>\n",
       "    <tr>\n",
       "      <th>840</th>\n",
       "      <td>0</td>\n",
       "      <td>2</td>\n",
       "      <td>0</td>\n",
       "      <td>0</td>\n",
       "    </tr>\n",
       "  </tbody>\n",
       "</table>\n",
       "</div>"
      ],
      "text/plain": [
       "Device  Desktop  Mobile  Other  Tablet\n",
       "Profit                                \n",
       "35         1113    2139      0     135\n",
       "40         2189    4710      0     397\n",
       "70           93     279      0       4\n",
       "80          176     719      0      15\n",
       "105          15      73      0       0\n",
       "120          50     234      0       4\n",
       "140           6      46      0       0\n",
       "160           8     112      0       2\n",
       "175           2      22      0       0\n",
       "200           5      61      0       0\n",
       "210           1      10      0       0\n",
       "240           4      33      0       0\n",
       "245           1       7      0       0\n",
       "280           3      22      0       1\n",
       "315           0       1      0       0\n",
       "320           3      18      0       0\n",
       "350           1       0      0       0\n",
       "360           0      11      0       0\n",
       "400           1      14      0       0\n",
       "440           0       2      0       0\n",
       "455           1       0      0       0\n",
       "480           0       4      0       0\n",
       "600           0       5      0       0\n",
       "680           0       3      0       0\n",
       "720           0       1      0       0\n",
       "760           0       2      0       0\n",
       "840           0       2      0       0"
      ]
     },
     "execution_count": 25,
     "metadata": {},
     "output_type": "execute_result"
    }
   ],
   "source": [
    "#Frequency table for Profit\n",
    "device2=pd.crosstab(index=rr['Profit'],columns=rr['Device'])\n",
    "device2dr=device2.drop(labels=0,axis=0)\n",
    "device2dr"
   ]
  },
  {
   "cell_type": "code",
   "execution_count": 26,
   "id": "5e5fe485",
   "metadata": {},
   "outputs": [
    {
     "data": {
      "text/plain": [
       "<matplotlib.legend.Legend at 0x2361174a070>"
      ]
     },
     "execution_count": 26,
     "metadata": {},
     "output_type": "execute_result"
    },
    {
     "data": {
      "image/png": "[encoded data removed]",
      "text/plain": [
       "<Figure size 576x576 with 1 Axes>"
      ]
     },
     "metadata": {
      "needs_background": "light"
     },
     "output_type": "display_data"
    }
   ],
   "source": [
    "#Visualizing the Profit earned by Device Type\n",
    "#Mobile is the most popular device\n",
    "#Other category could be expanded in surveys to access other markets\n",
    "device_profit.plot(title='Profit by Device from 12/2020 to 2/2020',\n",
    "               kind='bar',\n",
    "             xlabel='Device',\n",
    "             ylabel='Profit in USD',\n",
    "             figsize=(8,8))\n",
    "plt.xticks(rotation='30')\n",
    "ax.legend(frameon=False)"
   ]
  },
  {
   "cell_type": "code",
   "execution_count": 27,
   "id": "95e855ad",
   "metadata": {},
   "outputs": [
    {
     "name": "stdout",
     "output_type": "stream",
     "text": [
      "<class 'pandas.core.frame.DataFrame'>\n",
      "Int64Index: 5472156 entries, 1 to 5484482\n",
      "Data columns (total 5 columns):\n",
      " #   Column       Dtype  \n",
      "---  ------       -----  \n",
      " 0   Creative.ID  int64  \n",
      " 1   Impressions  int64  \n",
      " 2   Referrals    int64  \n",
      " 3   Profit       int64  \n",
      " 4   Revenue      float64\n",
      "dtypes: float64(1), int64(4)\n",
      "memory usage: 250.5 MB\n",
      "<class 'pandas.core.frame.DataFrame'>\n",
      "Int64Index: 5472156 entries, 1 to 5484482\n",
      "Data columns (total 5 columns):\n",
      " #   Column       Dtype  \n",
      "---  ------       -----  \n",
      " 0   Slot.ID      int64  \n",
      " 1   Impressions  int64  \n",
      " 2   Referrals    int64  \n",
      " 3   Profit       int64  \n",
      " 4   Revenue      float64\n",
      "dtypes: float64(1), int64(4)\n",
      "memory usage: 250.5 MB\n"
     ]
    }
   ],
   "source": [
    "#Dropping columns for creative.id and slot.id dataframes\n",
    "creative_profit=rr.drop(['Slot.ID','Placement','Ad.Slot.Page.Layout','Content.Type','Content.Has.Play.Button','Date','Device','Size','Cost'],axis=1)\n",
    "creative_profit.info()\n",
    "slot_profit=rr.drop(['Creative.ID','Placement','Ad.Slot.Page.Layout','Content.Type','Content.Has.Play.Button','Date','Device','Size','Cost'],axis=1)\n",
    "slot_profit.info()"
   ]
  },
  {
   "cell_type": "code",
   "execution_count": 28,
   "id": "bc07aa8f",
   "metadata": {},
   "outputs": [],
   "source": [
    "#table for the ten Creative.ID with highest profits\n",
    "#could be used for ideas to solve loss problems with underperforming Creative.ID\n",
    "creative_profit1=creative_profit.nlargest(10,['Profit'], keep='first')\n",
    "creative_profit1.name=\"Creative IDs with the highest Profit\""
   ]
  },
  {
   "cell_type": "code",
   "execution_count": 29,
   "id": "cfc499f6",
   "metadata": {},
   "outputs": [],
   "source": [
    "#table for the ten Creative.ID with the lowest profits, organized second by lowest impressions\n",
    "#could be areas of resource loss\n",
    "creative_profit2=creative_profit.nsmallest(10,['Profit', 'Impressions'], keep='first')\n",
    "creative_profit2.name=\"Creative IDs with the highest Profit\""
   ]
  },
  {
   "cell_type": "code",
   "execution_count": 30,
   "id": "43fb01ec",
   "metadata": {},
   "outputs": [],
   "source": [
    "#table for ten Slot.ID with the highest profits\n",
    "#Could be used for ideas to solve loss problems with underperforming Slot.ID\n",
    "slot_profit1=slot_profit.nlargest(10,['Profit'], keep='first')"
   ]
  },
  {
   "cell_type": "code",
   "execution_count": 31,
   "id": "0a774c24",
   "metadata": {},
   "outputs": [],
   "source": [
    "#table for the ten Slot.ID with the lowest profit, organized second by lowest impressions\n",
    "#could be areas of resource loss\n",
    "slot_profit2=slot_profit.nsmallest(10,['Profit', 'Impressions'], keep='first')"
   ]
  },
  {
   "cell_type": "code",
   "execution_count": 32,
   "id": "5c3a88b3",
   "metadata": {},
   "outputs": [],
   "source": [
    "#table for the ten Creative.IDs with the highest referral rate, organized second by impressions\n",
    "#could be worthwhile areas of resources regardless of profits\n",
    "creative_referral1=creative_profit.nlargest(10,['Referrals','Impressions'], keep='first')\n"
   ]
  },
  {
   "cell_type": "code",
   "execution_count": 33,
   "id": "619c4b1f",
   "metadata": {},
   "outputs": [],
   "source": [
    "#table for the ten Slot.ID with the highest referral rate, organized second by impressions\n",
    "#could be worthwhile areas of resources regardless of profits\n",
    "slot_referral1=slot_profit.nlargest(10,['Referrals','Impressions'], keep='first')"
   ]
  }
 ],
 "metadata": {
  "kernelspec": {
   "display_name": "Python 3",
   "language": "python",
   "name": "python3"
  },
  "language_info": {
   "codemirror_mode": {
    "name": "ipython",
    "version": 3
   },
   "file_extension": ".py",
   "mimetype": "text/x-python",
   "name": "python",
   "nbconvert_exporter": "python",
   "pygments_lexer": "ipython3",
   "version": "3.8.8"
  }
 },
 "nbformat": 4,
 "nbformat_minor": 5
}
